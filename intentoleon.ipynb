{
 "cells": [
  {
   "cell_type": "code",
   "execution_count": null,
   "metadata": {},
   "outputs": [
    {
     "name": "stdout",
     "output_type": "stream",
     "text": [
      "Total de imágenes cargadas: 20 en gt y 20 en sat.\n"
     ]
    }
   ],
   "source": [
    "import os\n",
    "from PIL import Image\n",
    "\n",
    "# Rutas de las carpetas\n",
    "\n",
    "gt_path = r\"C:\\Users\\leonf\\OneDrive\\Documentos\\AA_PRIMER_CUATRI\\PVC\\p3\\roads\\gt\"\n",
    "sat_path = r\"C:\\Users\\leonf\\OneDrive\\Documentos\\AA_PRIMER_CUATRI\\PVC\\p3\\roads\\sat\"\n",
    "\n",
    "# Inicializar listas para las imágenes\n",
    "gt_images = []\n",
    "sat_images = []\n",
    "\n",
    "# Cargar imágenes en las listas\n",
    "for filename in sorted(os.listdir(gt_path)): \n",
    "        gt_image_path = os.path.join(gt_path, filename)\n",
    "        sat_image_path = os.path.join(sat_path, filename)\n",
    "        gt_images.append((gt_image_path))\n",
    "        sat_images.append((sat_image_path))"
   ]
  },
  {
   "cell_type": "code",
   "execution_count": null,
   "metadata": {},
   "outputs": [],
   "source": []
  }
 ],
 "metadata": {
  "kernelspec": {
   "display_name": "pvc",
   "language": "python",
   "name": "python3"
  },
  "language_info": {
   "codemirror_mode": {
    "name": "ipython",
    "version": 3
   },
   "file_extension": ".py",
   "mimetype": "text/x-python",
   "name": "python",
   "nbconvert_exporter": "python",
   "pygments_lexer": "ipython3",
   "version": "3.12.7"
  }
 },
 "nbformat": 4,
 "nbformat_minor": 2
}
